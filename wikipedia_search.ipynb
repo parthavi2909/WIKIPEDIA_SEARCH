{
 "cells": [
  {
   "cell_type": "code",
   "execution_count": 1,
   "metadata": {},
   "outputs": [
    {
     "name": "stdout",
     "output_type": "stream",
     "text": [
      "Requirement already satisfied: wikipedia in c:\\users\\asus laptop\\anaconda3\\lib\\site-packages (1.4.0)\n",
      "Requirement already satisfied: requests<3.0.0,>=2.0.0 in c:\\users\\asus laptop\\anaconda3\\lib\\site-packages (from wikipedia) (2.24.0)\n",
      "Requirement already satisfied: beautifulsoup4 in c:\\users\\asus laptop\\anaconda3\\lib\\site-packages (from wikipedia) (4.9.3)\n",
      "Requirement already satisfied: urllib3!=1.25.0,!=1.25.1,<1.26,>=1.21.1 in c:\\users\\asus laptop\\anaconda3\\lib\\site-packages (from requests<3.0.0,>=2.0.0->wikipedia) (1.25.11)\n",
      "Requirement already satisfied: certifi>=2017.4.17 in c:\\users\\asus laptop\\anaconda3\\lib\\site-packages (from requests<3.0.0,>=2.0.0->wikipedia) (2020.6.20)\n",
      "Requirement already satisfied: chardet<4,>=3.0.2 in c:\\users\\asus laptop\\anaconda3\\lib\\site-packages (from requests<3.0.0,>=2.0.0->wikipedia) (3.0.4)\n",
      "Requirement already satisfied: idna<3,>=2.5 in c:\\users\\asus laptop\\anaconda3\\lib\\site-packages (from requests<3.0.0,>=2.0.0->wikipedia) (2.10)\n",
      "Requirement already satisfied: soupsieve>1.2; python_version >= \"3.0\" in c:\\users\\asus laptop\\anaconda3\\lib\\site-packages (from beautifulsoup4->wikipedia) (2.0.1)\n"
     ]
    }
   ],
   "source": [
    "!pip install wikipedia"
   ]
  },
  {
   "cell_type": "code",
   "execution_count": 2,
   "metadata": {},
   "outputs": [
    {
     "name": "stdout",
     "output_type": "stream",
     "text": [
      "Requirement already satisfied: python-docx in c:\\users\\asus laptop\\anaconda3\\lib\\site-packages (0.8.11)\n",
      "Requirement already satisfied: lxml>=2.3.2 in c:\\users\\asus laptop\\anaconda3\\lib\\site-packages (from python-docx) (4.6.1)\n"
     ]
    }
   ],
   "source": [
    "!pip install python-docx"
   ]
  },
  {
   "cell_type": "code",
   "execution_count": 14,
   "metadata": {},
   "outputs": [],
   "source": [
    "import wikipedia as wiki\n",
    "from tkinter import *\n",
    "from tkinter import messagebox\n",
    "import os\n",
    "search=Tk()\n",
    "search.title(\"Wiki Search\")\n",
    "\n",
    "font_format1=(\"Arial\",22,\"bold\")\n",
    "font_format2=(\"Arial\",18,\"italic\")\n",
    "\n",
    "def wiki_search():\n",
    "        x=wiki.search(n1.get())\n",
    "        with open(\"wikisearch.txt\",\"w\") as file:\n",
    "            file.write(x)\n",
    "        \n",
    "\n",
    "def system():\n",
    "    os.system(\"wikisearch.txt\")\n",
    "\n",
    "\n",
    "label1=Label(search, text=\"WIKI SEARCH\", padx=20, pady=10, font=font_format1).grid(row=0, column=0)\n",
    "label2=Label(search, text=\"What you want to search\", padx=20, pady=20, font=font_format2).grid(row=1, column=0)\n",
    "\n",
    "n1=Entry(search, font=font_format2, bg=\"black\", fg=\"white\").grid(row=1, column=1)\n",
    "\n",
    "text=Text(search).grid(row=3, column=0)\n",
    "\n",
    "button1=Button(search, text=\"Search and Save\", command=wiki_search, font=font_format2).grid(row=2, column=1)\n",
    "button2=Button(search, text=\"Open\", command=system, font=font_format2 ).grid(row=2, column=2)\n",
    "\n",
    "\n",
    "search.mainloop()"
   ]
  },
  {
   "cell_type": "code",
   "execution_count": null,
   "metadata": {},
   "outputs": [],
   "source": []
  },
  {
   "cell_type": "code",
   "execution_count": null,
   "metadata": {},
   "outputs": [],
   "source": []
  },
  {
   "cell_type": "code",
   "execution_count": null,
   "metadata": {},
   "outputs": [],
   "source": []
  }
 ],
 "metadata": {
  "kernelspec": {
   "display_name": "Python 3",
   "language": "python",
   "name": "python3"
  },
  "language_info": {
   "codemirror_mode": {
    "name": "ipython",
    "version": 3
   },
   "file_extension": ".py",
   "mimetype": "text/x-python",
   "name": "python",
   "nbconvert_exporter": "python",
   "pygments_lexer": "ipython3",
   "version": "3.8.5"
  }
 },
 "nbformat": 4,
 "nbformat_minor": 4
}
